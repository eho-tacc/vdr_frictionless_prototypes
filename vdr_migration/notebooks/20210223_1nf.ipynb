{
 "cells": [
  {
   "cell_type": "code",
   "execution_count": 1,
   "metadata": {},
   "outputs": [],
   "source": [
    "import os\n",
    "import glob\n",
    "import pandas as pd\n",
    "import numpy as np\n",
    "from itertools import product\n",
    "import importlib.util\n",
    "import frictionless"
   ]
  },
  {
   "cell_type": "markdown",
   "metadata": {},
   "source": [
    "# 20210223\n",
    "\n",
    "The goal of this notebook is to address the data normalization problem with files in [../data/all_stab_scores](../data/all_stab_scores). In short, I want to partition stability score CSV files such that each partition has its own Data Resource and schema. The columns in schema should be as \"close\" to the non-empty columns in the files of the partition as possible. At the same time, we want as few partitions as possible (otherwise, optimal solution would be a single Data Resource for each CSV file).\n",
    "\n",
    "Continuation of [20210222](./20210222.ipynb) notebook.\n",
    "\n",
    "----\n",
    "\n",
    "From today's vimwiki entry:\n",
    "> * We could start with a base case where each node has its own subgraph.\n",
    ">    * Merging subgraphs is defined as taking the union of each subgraph's column set\n",
    ">        * This is a favorable operation if the subgraphs have \"substantially similar\" column sets.\n",
    ">        * \"Substantially similar\" could be defined as length of intersection divided by the length of the union. This metric takes a value between 0 and 1, with 1 being optimal.\n",
    ">        * We could set a threshold for the minimum allowed \"overlap metric\" for a merging operation.\n",
    ">    * The existence of an edge between subgraphs that are not merged is an alternative.\n",
    ">        * This represents a column that would be shared between two subgraphs (tables).\n",
    ">        * An edge with a small weight is the best case, since we could simply add this column to both subgraphs' sets.\n",
    ">        * This operation is optimal when the size of the intersection is minimal compared with the size of the union: in other words, a small \"overlap metric\".\n",
    ">    * We choose either this \"merging two subgraphs\" operation or the \"add small weight edges to both subgraphs\" operation until we reach a state where nodes within a subgraph have high overlap, and there exist no edges between separate subgraphs.\n",
    ">    * An input parameter \"overlap threshold\" would determine at which point a merging operation vs an add-edge operation should be performed. Intuitively, a good starting value is 0.5, though a different value might be optimal.\n",
    ">    * How do we define the optimal solution? In general, we want:\n",
    ">        * Mean Ix(i) / U(s) maximized for each node i in subgraph s\n",
    ">        * Ix / U between subgraphs is, by definition of the termination condition, zero.\n",
    ">    * So this is more of a set problem than a graph problem, but put succinctly:\n",
    ">        * We want to find \"overlap threshold\" s.t. we minimize the mean Intersection / Union(s) for each subgraph s.\n",
    ">    * Unfortunately, it is quite possible that the final solution will contain only one subset that spans the entire set.\n",
    ">* Implementation\n",
    ">    * We start with a list of subsets, one for each file.\n",
    ">        * A subset could be represented as a dict with two items:\n",
    ">            * Which nodes are in the subset\n",
    ">            * The union of all nodes' columns in the subset.\n",
    ">    * For each unique combination of subsets, calculate the overlap metric (p)\n",
    ">        * Given column sets c1 and c2 for a pair of subsets s1 and s2, this is equel to `len(s1.intersection(s2)) / len(s1.union(s2))`\n",
    ">    * If p equals zero for a pair of subsets, ignore this pair.\n",
    ">        * This means that\n",
    ">        * Our work is done for this pair of subsets.\n",
    ">    * Else if p > thresh, then merge the subsets\n",
    ">    * Else, add every column in the intersection to both subsets' columns"
   ]
  },
  {
   "cell_type": "code",
   "execution_count": 2,
   "metadata": {},
   "outputs": [],
   "source": [
    "primary_keys = ['dataset', 'name', 'chip_name']"
   ]
  },
  {
   "cell_type": "code",
   "execution_count": 3,
   "metadata": {},
   "outputs": [],
   "source": [
    "all_fps = glob.glob(\"../data/all_stab_scores/og/*.csv\")"
   ]
  },
  {
   "cell_type": "code",
   "execution_count": 4,
   "metadata": {},
   "outputs": [
    {
     "name": "stderr",
     "output_type": "stream",
     "text": [
      "/Users/TASethanho/anaconda3/envs/frictionless/lib/python3.8/site-packages/IPython/core/interactiveshell.py:3427: DtypeWarning: Columns (89) have mixed types.Specify dtype option on import or set low_memory=False.\n",
      "  exec(code_obj, self.user_global_ns, self.user_ns)\n"
     ]
    }
   ],
   "source": [
    "def get_cols(fp, primary_keys: list = primary_keys) -> list:\n",
    "    \"\"\"Get columns in CSV file `fp`, and remove primary keys\"\"\"\n",
    "    all_cols = pd.read_csv(fp).columns.tolist()\n",
    "    return [c for c in all_cols if c not in primary_keys]\n",
    "col_dict = {int_idx: get_cols(fp) for int_idx, fp in enumerate(all_fps)}"
   ]
  },
  {
   "cell_type": "code",
   "execution_count": 5,
   "metadata": {},
   "outputs": [],
   "source": [
    "subs = [{'files': set([int_idx]), 'cols': set(get_cols(fp))} for int_idx, fp in enumerate(all_fps)]"
   ]
  },
  {
   "cell_type": "code",
   "execution_count": 6,
   "metadata": {},
   "outputs": [
    {
     "data": {
      "text/plain": [
       "24"
      ]
     },
     "execution_count": 6,
     "metadata": {},
     "output_type": "execute_result"
    }
   ],
   "source": [
    "len(subs)"
   ]
  },
  {
   "cell_type": "markdown",
   "metadata": {},
   "source": [
    "Iterate over every unique combination of subsets:"
   ]
  },
  {
   "cell_type": "code",
   "execution_count": 7,
   "metadata": {},
   "outputs": [],
   "source": [
    "def optimal_subsets(subs, olap_thresh=0.5, verbose=False):\n",
    "    \"\"\"\"\"\"\n",
    "    s = list(subs)\n",
    "    merge_event = True\n",
    "    n_iters = 0\n",
    "    while merge_event:\n",
    "        # we terminate if no merge event occured this iteration\n",
    "        merge_event = False\n",
    "        \n",
    "        # iterate over every unique combination of subsets\n",
    "        for i in range(len(s)):\n",
    "            for j in range(i + 1, len(s)):\n",
    "                s1 = s[i]\n",
    "                s2 = s[j]\n",
    "                \n",
    "                # skip if one of the subsets was already merged\n",
    "                # (now an empty dictionary)\n",
    "                if not s1 or not s2:\n",
    "                    continue\n",
    "                \n",
    "                # compute ratio of intersection size to union size\n",
    "                olap = len(s1['cols'].intersection(s2['cols'])) / len(s1['cols'].union(s2['cols']))\n",
    "                \n",
    "                if olap == 0:\n",
    "                    # skip if sets are completely distinct\n",
    "                    continue\n",
    "                elif olap > olap_thresh:\n",
    "                    # merge s2 into s1\n",
    "                    s1['files'] = s1['files'].union(s2['files'])\n",
    "                    s1['cols'] = s1['cols'].union(s2['cols'])\n",
    "                    # we replace the merged subset with empty dict\n",
    "                    s[j] = dict()\n",
    "                    merge_event = True\n",
    "        # remove empty dictionaries (merged sets) from the subsets list\n",
    "        s = [sub for sub in s if sub]\n",
    "        n_iters += 1\n",
    "    if verbose:\n",
    "        print(f\"executed {n_iters} merging iterations\")\n",
    "    return s"
   ]
  },
  {
   "cell_type": "code",
   "execution_count": 8,
   "metadata": {},
   "outputs": [
    {
     "data": {
      "text/plain": [
       "3"
      ]
     },
     "execution_count": 8,
     "metadata": {},
     "output_type": "execute_result"
    }
   ],
   "source": [
    "opt = optimal_subsets(subs, 0.4)\n",
    "for s1, s2 in product(*[opt] * 2):\n",
    "    if s1['files'] == s2['files']:\n",
    "        continue\n",
    "    ix = s1['files'].intersection(s2['files'])\n",
    "    assert len(ix) == 0, (s1['files'], s2['files'])\n",
    "len(opt)"
   ]
  },
  {
   "cell_type": "markdown",
   "metadata": {},
   "source": [
    "Wow, this actually appeared to work."
   ]
  },
  {
   "cell_type": "markdown",
   "metadata": {},
   "source": [
    "A metric we are interested in is the mean similarity between the columns in each file and the columns in the schema (the subset that contains these files). This will essentially represent the proportion of columns in each file that will have non-null values. We can use a modified \"overlap ratio\" for this purpose:"
   ]
  },
  {
   "cell_type": "code",
   "execution_count": 9,
   "metadata": {},
   "outputs": [
    {
     "data": {
      "text/html": [
       "<div>\n",
       "<style scoped>\n",
       "    .dataframe tbody tr th:only-of-type {\n",
       "        vertical-align: middle;\n",
       "    }\n",
       "\n",
       "    .dataframe tbody tr th {\n",
       "        vertical-align: top;\n",
       "    }\n",
       "\n",
       "    .dataframe thead th {\n",
       "        text-align: right;\n",
       "    }\n",
       "</style>\n",
       "<table border=\"1\" class=\"dataframe\">\n",
       "  <thead>\n",
       "    <tr style=\"text-align: right;\">\n",
       "      <th></th>\n",
       "      <th>group_idx</th>\n",
       "      <th>file_path</th>\n",
       "      <th>n_cols</th>\n",
       "      <th>subset_un</th>\n",
       "      <th>olap</th>\n",
       "    </tr>\n",
       "    <tr>\n",
       "      <th>file_idx</th>\n",
       "      <th></th>\n",
       "      <th></th>\n",
       "      <th></th>\n",
       "      <th></th>\n",
       "      <th></th>\n",
       "    </tr>\n",
       "  </thead>\n",
       "  <tbody>\n",
       "    <tr>\n",
       "      <th>0</th>\n",
       "      <td>0</td>\n",
       "      <td>../data/all_stab_scores/og/topology_mining_rd2...</td>\n",
       "      <td>88</td>\n",
       "      <td>128</td>\n",
       "      <td>0.687500</td>\n",
       "    </tr>\n",
       "    <tr>\n",
       "      <th>1</th>\n",
       "      <td>0</td>\n",
       "      <td>../data/all_stab_scores/og/181114_IL_binders_F...</td>\n",
       "      <td>87</td>\n",
       "      <td>128</td>\n",
       "      <td>0.679688</td>\n",
       "    </tr>\n",
       "    <tr>\n",
       "      <th>3</th>\n",
       "      <td>0</td>\n",
       "      <td>../data/all_stab_scores/og/Rocklin_scrambled_c...</td>\n",
       "      <td>88</td>\n",
       "      <td>128</td>\n",
       "      <td>0.687500</td>\n",
       "    </tr>\n",
       "    <tr>\n",
       "      <th>4</th>\n",
       "      <td>0</td>\n",
       "      <td>../data/all_stab_scores/og/Rocklin_display_vec...</td>\n",
       "      <td>88</td>\n",
       "      <td>128</td>\n",
       "      <td>0.687500</td>\n",
       "    </tr>\n",
       "    <tr>\n",
       "      <th>6</th>\n",
       "      <td>0</td>\n",
       "      <td>../data/all_stab_scores/og/Eva1_scrambled_cont...</td>\n",
       "      <td>111</td>\n",
       "      <td>128</td>\n",
       "      <td>0.867188</td>\n",
       "    </tr>\n",
       "    <tr>\n",
       "      <th>9</th>\n",
       "      <td>0</td>\n",
       "      <td>../data/all_stab_scores/og/100K_winter19.v3.ex...</td>\n",
       "      <td>112</td>\n",
       "      <td>128</td>\n",
       "      <td>0.875000</td>\n",
       "    </tr>\n",
       "    <tr>\n",
       "      <th>11</th>\n",
       "      <td>0</td>\n",
       "      <td>../data/all_stab_scores/og/Longxing_scrambled_...</td>\n",
       "      <td>104</td>\n",
       "      <td>128</td>\n",
       "      <td>0.812500</td>\n",
       "    </tr>\n",
       "    <tr>\n",
       "      <th>14</th>\n",
       "      <td>0</td>\n",
       "      <td>../data/all_stab_scores/og/TwoSix_100K.v4.expe...</td>\n",
       "      <td>115</td>\n",
       "      <td>128</td>\n",
       "      <td>0.898438</td>\n",
       "    </tr>\n",
       "    <tr>\n",
       "      <th>16</th>\n",
       "      <td>0</td>\n",
       "      <td>../data/all_stab_scores/og/optE1.v2.experiment...</td>\n",
       "      <td>94</td>\n",
       "      <td>128</td>\n",
       "      <td>0.734375</td>\n",
       "    </tr>\n",
       "    <tr>\n",
       "      <th>17</th>\n",
       "      <td>0</td>\n",
       "      <td>../data/all_stab_scores/og/topology_mining_and...</td>\n",
       "      <td>89</td>\n",
       "      <td>128</td>\n",
       "      <td>0.695312</td>\n",
       "    </tr>\n",
       "    <tr>\n",
       "      <th>18</th>\n",
       "      <td>0</td>\n",
       "      <td>../data/all_stab_scores/og/optE1_scrambled_con...</td>\n",
       "      <td>90</td>\n",
       "      <td>128</td>\n",
       "      <td>0.703125</td>\n",
       "    </tr>\n",
       "    <tr>\n",
       "      <th>22</th>\n",
       "      <td>0</td>\n",
       "      <td>../data/all_stab_scores/og/Eva2_scrambled_cont...</td>\n",
       "      <td>111</td>\n",
       "      <td>128</td>\n",
       "      <td>0.867188</td>\n",
       "    </tr>\n",
       "    <tr>\n",
       "      <th>2</th>\n",
       "      <td>1</td>\n",
       "      <td>../data/all_stab_scores/og/Inna.v7.experimenta...</td>\n",
       "      <td>22</td>\n",
       "      <td>44</td>\n",
       "      <td>0.500000</td>\n",
       "    </tr>\n",
       "    <tr>\n",
       "      <th>5</th>\n",
       "      <td>1</td>\n",
       "      <td>../data/all_stab_scores/og/Rocklin.rd1.v4.expe...</td>\n",
       "      <td>22</td>\n",
       "      <td>44</td>\n",
       "      <td>0.500000</td>\n",
       "    </tr>\n",
       "    <tr>\n",
       "      <th>7</th>\n",
       "      <td>1</td>\n",
       "      <td>../data/all_stab_scores/og/Eva2.v7.experimenta...</td>\n",
       "      <td>22</td>\n",
       "      <td>44</td>\n",
       "      <td>0.500000</td>\n",
       "    </tr>\n",
       "    <tr>\n",
       "      <th>8</th>\n",
       "      <td>1</td>\n",
       "      <td>../data/all_stab_scores/og/Rocklin.rd3.v4.expe...</td>\n",
       "      <td>22</td>\n",
       "      <td>44</td>\n",
       "      <td>0.500000</td>\n",
       "    </tr>\n",
       "    <tr>\n",
       "      <th>10</th>\n",
       "      <td>1</td>\n",
       "      <td>../data/all_stab_scores/og/Rocklin.rd4.v4.expe...</td>\n",
       "      <td>22</td>\n",
       "      <td>44</td>\n",
       "      <td>0.500000</td>\n",
       "    </tr>\n",
       "    <tr>\n",
       "      <th>12</th>\n",
       "      <td>1</td>\n",
       "      <td>../data/all_stab_scores/og/Rocklin.rd2.v4.expe...</td>\n",
       "      <td>22</td>\n",
       "      <td>44</td>\n",
       "      <td>0.500000</td>\n",
       "    </tr>\n",
       "    <tr>\n",
       "      <th>13</th>\n",
       "      <td>1</td>\n",
       "      <td>../data/all_stab_scores/og/Eva1.v7.experimenta...</td>\n",
       "      <td>22</td>\n",
       "      <td>44</td>\n",
       "      <td>0.500000</td>\n",
       "    </tr>\n",
       "    <tr>\n",
       "      <th>15</th>\n",
       "      <td>1</td>\n",
       "      <td>../data/all_stab_scores/og/Rocklin_ssm_stabili...</td>\n",
       "      <td>27</td>\n",
       "      <td>44</td>\n",
       "      <td>0.613636</td>\n",
       "    </tr>\n",
       "    <tr>\n",
       "      <th>20</th>\n",
       "      <td>1</td>\n",
       "      <td>../data/all_stab_scores/og/Rocklin.scrambled.e...</td>\n",
       "      <td>22</td>\n",
       "      <td>44</td>\n",
       "      <td>0.500000</td>\n",
       "    </tr>\n",
       "    <tr>\n",
       "      <th>21</th>\n",
       "      <td>1</td>\n",
       "      <td>../data/all_stab_scores/og/Rocklin.v6.experime...</td>\n",
       "      <td>31</td>\n",
       "      <td>44</td>\n",
       "      <td>0.704545</td>\n",
       "    </tr>\n",
       "    <tr>\n",
       "      <th>23</th>\n",
       "      <td>1</td>\n",
       "      <td>../data/all_stab_scores/og/Longxing.v10.experi...</td>\n",
       "      <td>22</td>\n",
       "      <td>44</td>\n",
       "      <td>0.500000</td>\n",
       "    </tr>\n",
       "    <tr>\n",
       "      <th>19</th>\n",
       "      <td>2</td>\n",
       "      <td>../data/all_stab_scores/og/181114_Benjamin_NTF...</td>\n",
       "      <td>1</td>\n",
       "      <td>1</td>\n",
       "      <td>1.000000</td>\n",
       "    </tr>\n",
       "  </tbody>\n",
       "</table>\n",
       "</div>"
      ],
      "text/plain": [
       "          group_idx                                          file_path  \\\n",
       "file_idx                                                                 \n",
       "0                 0  ../data/all_stab_scores/og/topology_mining_rd2...   \n",
       "1                 0  ../data/all_stab_scores/og/181114_IL_binders_F...   \n",
       "3                 0  ../data/all_stab_scores/og/Rocklin_scrambled_c...   \n",
       "4                 0  ../data/all_stab_scores/og/Rocklin_display_vec...   \n",
       "6                 0  ../data/all_stab_scores/og/Eva1_scrambled_cont...   \n",
       "9                 0  ../data/all_stab_scores/og/100K_winter19.v3.ex...   \n",
       "11                0  ../data/all_stab_scores/og/Longxing_scrambled_...   \n",
       "14                0  ../data/all_stab_scores/og/TwoSix_100K.v4.expe...   \n",
       "16                0  ../data/all_stab_scores/og/optE1.v2.experiment...   \n",
       "17                0  ../data/all_stab_scores/og/topology_mining_and...   \n",
       "18                0  ../data/all_stab_scores/og/optE1_scrambled_con...   \n",
       "22                0  ../data/all_stab_scores/og/Eva2_scrambled_cont...   \n",
       "2                 1  ../data/all_stab_scores/og/Inna.v7.experimenta...   \n",
       "5                 1  ../data/all_stab_scores/og/Rocklin.rd1.v4.expe...   \n",
       "7                 1  ../data/all_stab_scores/og/Eva2.v7.experimenta...   \n",
       "8                 1  ../data/all_stab_scores/og/Rocklin.rd3.v4.expe...   \n",
       "10                1  ../data/all_stab_scores/og/Rocklin.rd4.v4.expe...   \n",
       "12                1  ../data/all_stab_scores/og/Rocklin.rd2.v4.expe...   \n",
       "13                1  ../data/all_stab_scores/og/Eva1.v7.experimenta...   \n",
       "15                1  ../data/all_stab_scores/og/Rocklin_ssm_stabili...   \n",
       "20                1  ../data/all_stab_scores/og/Rocklin.scrambled.e...   \n",
       "21                1  ../data/all_stab_scores/og/Rocklin.v6.experime...   \n",
       "23                1  ../data/all_stab_scores/og/Longxing.v10.experi...   \n",
       "19                2  ../data/all_stab_scores/og/181114_Benjamin_NTF...   \n",
       "\n",
       "          n_cols  subset_un      olap  \n",
       "file_idx                               \n",
       "0             88        128  0.687500  \n",
       "1             87        128  0.679688  \n",
       "3             88        128  0.687500  \n",
       "4             88        128  0.687500  \n",
       "6            111        128  0.867188  \n",
       "9            112        128  0.875000  \n",
       "11           104        128  0.812500  \n",
       "14           115        128  0.898438  \n",
       "16            94        128  0.734375  \n",
       "17            89        128  0.695312  \n",
       "18            90        128  0.703125  \n",
       "22           111        128  0.867188  \n",
       "2             22         44  0.500000  \n",
       "5             22         44  0.500000  \n",
       "7             22         44  0.500000  \n",
       "8             22         44  0.500000  \n",
       "10            22         44  0.500000  \n",
       "12            22         44  0.500000  \n",
       "13            22         44  0.500000  \n",
       "15            27         44  0.613636  \n",
       "20            22         44  0.500000  \n",
       "21            31         44  0.704545  \n",
       "23            22         44  0.500000  \n",
       "19             1          1  1.000000  "
      ]
     },
     "execution_count": 9,
     "metadata": {},
     "output_type": "execute_result"
    }
   ],
   "source": [
    "def get_df_from_optimal_subs(subs, optimal_subs, all_fps, col_dict) -> pd.DataFrame:\n",
    "    rows = list()\n",
    "    # df = pd.DataFrame(columns=['file_idx', 'group_idx', 'file_path', 'n_cols', 'subset_ix', 'subset_un'])\n",
    "    for group_idx, subset in enumerate(optimal_subs):\n",
    "        sub_cols = subset['cols']\n",
    "        for file_idx in subset['files']:\n",
    "            cols = set(col_dict[file_idx])\n",
    "            rows.append({\n",
    "                'file_idx': file_idx,\n",
    "                'group_idx': group_idx,\n",
    "                'file_path': all_fps[file_idx],\n",
    "                'n_cols': len(cols),\n",
    "                # by definition, equivalent to n_cols\n",
    "                # 'subset_ix': len(cols.intersection(sub_cols)),\n",
    "                'subset_un': len(cols.union(sub_cols)),\n",
    "            })\n",
    "    as_df = pd.DataFrame(rows)\n",
    "    as_df.set_index('file_idx', inplace=True)\n",
    "    as_df['olap'] = as_df.n_cols / as_df.subset_un\n",
    "    return as_df\n",
    "\n",
    "opt_df = get_df_from_optimal_subs(subs, opt, all_fps, col_dict)\n",
    "opt_df"
   ]
  },
  {
   "cell_type": "markdown",
   "metadata": {},
   "source": [
    "Overall, this worked pretty well. It looks like the algorithm separated the older Rocklin datasets from the more recent ones. The lone `Benjamin` file in group 2 should probably be merged to group 0 (I suspect this is just a column naming issue).\n",
    "\n",
    "Finally, let's look at the distribution of overlap ratio for each group:"
   ]
  },
  {
   "cell_type": "code",
   "execution_count": 10,
   "metadata": {},
   "outputs": [
    {
     "data": {
      "text/plain": [
       "array([[<AxesSubplot:title={'center':'0'}>,\n",
       "        <AxesSubplot:title={'center':'1'}>],\n",
       "       [<AxesSubplot:title={'center':'2'}>, <AxesSubplot:>]], dtype=object)"
      ]
     },
     "execution_count": 10,
     "metadata": {},
     "output_type": "execute_result"
    },
    {
     "data": {
      "image/png": "[encoded data removed]",
      "text/plain": [
       "<Figure size 432x288 with 4 Axes>"
      ]
     },
     "metadata": {
      "needs_background": "light"
     },
     "output_type": "display_data"
    }
   ],
   "source": [
    "opt_df.hist(column='olap', by='group_idx')"
   ]
  },
  {
   "cell_type": "markdown",
   "metadata": {},
   "source": [
    "# Normalize and Write Tables\n",
    "\n",
    "----\n",
    "\n",
    "Use the `normalize_csv` utilities to write normalized CSVs for each group. First, load the `normalize_csv` module:"
   ]
  },
  {
   "cell_type": "code",
   "execution_count": 11,
   "metadata": {},
   "outputs": [],
   "source": [
    "spec = importlib.util.spec_from_file_location(\"module.name\", \"../scripts/normalize_csv.py\")\n",
    "normalize_csv = importlib.util.module_from_spec(spec)\n",
    "spec.loader.exec_module(normalize_csv)"
   ]
  },
  {
   "cell_type": "markdown",
   "metadata": {},
   "source": [
    "A lightweight wrapper around `normalize_csv.main`:"
   ]
  },
  {
   "cell_type": "code",
   "execution_count": 12,
   "metadata": {},
   "outputs": [],
   "source": [
    "def normalize_group(norm_group, df):\n",
    "    print(f\"Normalizing files in group '{group_idx}'\")\n",
    "    files = df['file_path'][df.group_idx == norm_group].tolist()\n",
    "    out_dir = '../data/stab_scores'\n",
    "    normalize_csv.main(files=files, out_dir=out_dir, overwrite=True)"
   ]
  },
  {
   "cell_type": "markdown",
   "metadata": {},
   "source": [
    "Normalize each group separately:"
   ]
  },
  {
   "cell_type": "code",
   "execution_count": 13,
   "metadata": {},
   "outputs": [
    {
     "name": "stdout",
     "output_type": "stream",
     "text": [
      "Normalizing files in group '0'\n"
     ]
    },
    {
     "name": "stderr",
     "output_type": "stream",
     "text": [
      "/Users/TASethanho/anaconda3/envs/frictionless/lib/python3.8/site-packages/IPython/core/interactiveshell.py:3427: DtypeWarning: Columns (89) have mixed types.Specify dtype option on import or set low_memory=False.\n",
      "  exec(code_obj, self.user_global_ns, self.user_ns)\n"
     ]
    },
    {
     "name": "stdout",
     "output_type": "stream",
     "text": [
      "Normalizing files in group '1'\n"
     ]
    }
   ],
   "source": [
    "for group_idx in range(2):\n",
    "    normalize_group(group_idx, opt_df)"
   ]
  },
  {
   "cell_type": "markdown",
   "metadata": {},
   "source": [
    "Hacky check for column number below:"
   ]
  },
  {
   "cell_type": "code",
   "execution_count": 14,
   "metadata": {},
   "outputs": [
    {
     "name": "stderr",
     "output_type": "stream",
     "text": [
      "/Users/TASethanho/anaconda3/envs/frictionless/lib/python3.8/site-packages/IPython/core/interactiveshell.py:3155: DtypeWarning: Columns (89) have mixed types.Specify dtype option on import or set low_memory=False.\n",
      "  has_raised = await self.run_ast_nodes(code_ast.body, cell_name,\n"
     ]
    }
   ],
   "source": [
    "for fp in glob.glob(os.path.join('../data/stab_scores', \"*_normalized.csv\")):\n",
    "    df = pd.read_csv(fp)\n",
    "    expected_ncols = opt_df[opt_df.group_idx == 1]['subset_un'].iloc[0] + 2\n",
    "    # assert len(df.columns) == expected_ncols, (len(df.columns), expected_ncols)"
   ]
  },
  {
   "cell_type": "markdown",
   "metadata": {},
   "source": [
    "Sanity check:"
   ]
  },
  {
   "cell_type": "code",
   "execution_count": 15,
   "metadata": {},
   "outputs": [],
   "source": [
    "assert not opt_df.duplicated('file_path').any()"
   ]
  },
  {
   "cell_type": "markdown",
   "metadata": {},
   "source": [
    "----\n",
    "\n",
    "To generate schemas for each group, I used the Frictionless CLI to infer a schema for a candidate file:\n",
    "```bash\n",
    "$ frictionless describe --json data/stab_scores/100K_winter19.v3.experimental_stability_scores_normalized.csv | jq -r .schema\n",
    "```\n",
    "\n",
    "Note that the inferred schema **should** be the same for every file in a given group.\n",
    "\n",
    "Below if a brief reminder of how to describe data using the Python API:"
   ]
  },
  {
   "cell_type": "code",
   "execution_count": 18,
   "metadata": {},
   "outputs": [
    {
     "name": "stdout",
     "output_type": "stream",
     "text": [
      "file ../data/stab_scores/Rocklin_ssm_stability_scores.experimental_stability_scores_normalized.csv has 46 fields in the schema\n",
      "file ../data/stab_scores/Rocklin.rd2.v4.experimental_stability_scores_normalized.csv has 46 fields in the schema\n",
      "file ../data/stab_scores/optE1_scrambled_controls.experimental_stability_scores_normalized.csv has 131 fields in the schema\n",
      "file ../data/stab_scores/topology_mining_rd2.experimental_stability_scores_normalized.csv has 131 fields in the schema\n",
      "file ../data/stab_scores/Rocklin.v6.experimental_stability_scores_normalized.csv has 46 fields in the schema\n",
      "file ../data/stab_scores/Rocklin.rd3.v4.experimental_stability_scores_normalized.csv has 46 fields in the schema\n",
      "file ../data/stab_scores/Eva2_scrambled_controls.v3.experimental_stability_scores_normalized.csv has 131 fields in the schema\n",
      "file ../data/stab_scores/TwoSix_100K.v4.experimental_stability_scores_normalized.csv has 131 fields in the schema\n",
      "file ../data/stab_scores/Longxing_scrambled_controls.v3.experimental_stability_scores_normalized.csv has 131 fields in the schema\n",
      "file ../data/stab_scores/Rocklin.rd4.v4.experimental_stability_scores_normalized.csv has 46 fields in the schema\n",
      "file ../data/stab_scores/Rocklin.rd1.v4.experimental_stability_scores_normalized.csv has 46 fields in the schema\n",
      "file ../data/stab_scores/Rocklin_display_vector_2.rd4.experimental_stability_scores_normalized.csv has 131 fields in the schema\n",
      "file ../data/stab_scores/Rocklin_scrambled_controls_display_vector_2.rd4.experimental_stability_scores_normalized.csv has 131 fields in the schema\n",
      "file ../data/stab_scores/Eva2.v7.experimental_stability_scores_normalized.csv has 46 fields in the schema\n",
      "file ../data/stab_scores/Inna.v7.experimental_stability_scores_normalized.csv has 46 fields in the schema\n",
      "file ../data/stab_scores/100K_winter19.v3.experimental_stability_scores_normalized.csv has 131 fields in the schema\n",
      "file ../data/stab_scores/optE1.v2.experimental_stability_scores_normalized.csv has 131 fields in the schema\n",
      "file ../data/stab_scores/Eva1.v7.experimental_stability_scores_normalized.csv has 46 fields in the schema\n",
      "file ../data/stab_scores/Rocklin.scrambled.experimental_stability_scores.v2_normalized.csv has 46 fields in the schema\n",
      "file ../data/stab_scores/topology_mining_and_Longxing_all_chips.experimental_stability_scores_normalized.csv has 131 fields in the schema\n",
      "file ../data/stab_scores/181114_IL_binders_FS.v2.experimental_stability_scores_normalized.csv has 131 fields in the schema\n",
      "file ../data/stab_scores/Eva1_scrambled_controls.v3.experimental_stability_scores_normalized.csv has 131 fields in the schema\n",
      "file ../data/stab_scores/Longxing.v10.experimental_stability_scores_normalized.csv has 46 fields in the schema\n"
     ]
    }
   ],
   "source": [
    "for fp in glob.glob(os.path.join('../data/stab_scores', \"*_normalized.csv\")):\n",
    "    fields = frictionless.describe(fp)['schema']['fields']\n",
    "    print(f\"file {fp} has {len(fields)} fields in the schema\")"
   ]
  }
 ],
 "metadata": {
  "kernelspec": {
   "display_name": "Python 3",
   "language": "python",
   "name": "python3"
  },
  "language_info": {
   "codemirror_mode": {
    "name": "ipython",
    "version": 3
   },
   "file_extension": ".py",
   "mimetype": "text/x-python",
   "name": "python",
   "nbconvert_exporter": "python",
   "pygments_lexer": "ipython3",
   "version": "3.8.5"
  }
 },
 "nbformat": 4,
 "nbformat_minor": 4
}
