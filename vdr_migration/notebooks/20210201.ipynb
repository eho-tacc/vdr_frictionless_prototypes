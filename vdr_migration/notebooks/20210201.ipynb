{
 "cells": [
  {
   "cell_type": "code",
   "execution_count": 38,
   "metadata": {},
   "outputs": [],
   "source": [
    "import glob\n",
    "import pandas as pd\n",
    "import numpy as np\n",
    "import sknetwork as skn\n",
    "from itertools import product\n",
    "from scipy.sparse.csr import csr_matrix\n",
    "from sknetwork.clustering import PropagationClustering, BiPropagationClustering\n",
    "from sknetwork.data import karate_club"
   ]
  },
  {
   "cell_type": "markdown",
   "metadata": {},
   "source": [
    "# 20210201\n",
    "\n",
    "The goal of this notebook is to address the data normalization problem with files in [../data/all_stab_scores](../data/all_stab_scores). In short, I want to partition stability score CSV files such that each partition has its own Data Resource and schema. The columns in schema should be as \"close\" to the non-empty columns in the files of the partition as possible. At the same time, we want as few partitions as possible (otherwise, optimal solution would be a single Data Resource for each CSV file).\n",
    "\n",
    "I think I can phrase this as a graph problem. Nodes are CSV files, edges are undirected, with integer weights that refer to the number of columns that two files share. Then, partition the graph into subgraphs using some clustering algorithm. The [`scikit` algorithms](https://scikit-network.readthedocs.io/en/latest/reference/clustering.html) are probably a good starting point.\n",
    "\n",
    "----\n",
    "\n",
    "First step is to represent these files as a graph:"
   ]
  },
  {
   "cell_type": "code",
   "execution_count": 2,
   "metadata": {},
   "outputs": [],
   "source": [
    "primary_keys = ['dataset', 'name']"
   ]
  },
  {
   "cell_type": "code",
   "execution_count": 3,
   "metadata": {},
   "outputs": [
    {
     "data": {
      "text/plain": [
       "['../data/all_stab_scores/og/topology_mining_rd2.experimental_stability_scores.csv',\n",
       " '../data/all_stab_scores/og/181114_IL_binders_FS.v2.experimental_stability_scores.csv',\n",
       " '../data/all_stab_scores/og/Inna.v7.experimental_stability_scores.csv',\n",
       " '../data/all_stab_scores/og/Rocklin_scrambled_controls_display_vector_2.rd4.experimental_stability_scores.csv',\n",
       " '../data/all_stab_scores/og/Rocklin_display_vector_2.rd4.experimental_stability_scores.csv',\n",
       " '../data/all_stab_scores/og/Rocklin.rd1.v4.experimental_stability_scores.csv',\n",
       " '../data/all_stab_scores/og/Eva1_scrambled_controls.v3.experimental_stability_scores.csv',\n",
       " '../data/all_stab_scores/og/Eva2.v7.experimental_stability_scores.csv',\n",
       " '../data/all_stab_scores/og/Rocklin.rd3.v4.experimental_stability_scores.csv',\n",
       " '../data/all_stab_scores/og/100K_winter19.v3.experimental_stability_scores.csv',\n",
       " '../data/all_stab_scores/og/Rocklin.rd4.v4.experimental_stability_scores.csv',\n",
       " '../data/all_stab_scores/og/Longxing_scrambled_controls.v3.experimental_stability_scores.csv',\n",
       " '../data/all_stab_scores/og/Rocklin.rd2.v4.experimental_stability_scores.csv',\n",
       " '../data/all_stab_scores/og/Eva1.v7.experimental_stability_scores.csv',\n",
       " '../data/all_stab_scores/og/TwoSix_100K.v4.experimental_stability_scores.csv',\n",
       " '../data/all_stab_scores/og/Rocklin_ssm_stability_scores.experimental_stability_scores.csv',\n",
       " '../data/all_stab_scores/og/optE1.v2.experimental_stability_scores.csv',\n",
       " '../data/all_stab_scores/og/topology_mining_and_Longxing_all_chips.experimental_stability_scores.csv',\n",
       " '../data/all_stab_scores/og/optE1_scrambled_controls.experimental_stability_scores.csv',\n",
       " '../data/all_stab_scores/og/181114_Benjamin_NTF2.experimental_stability_scores.csv',\n",
       " '../data/all_stab_scores/og/Rocklin.scrambled.experimental_stability_scores.v2.csv',\n",
       " '../data/all_stab_scores/og/Rocklin.v6.experimental_stability_scores.csv',\n",
       " '../data/all_stab_scores/og/Eva2_scrambled_controls.v3.experimental_stability_scores.csv',\n",
       " '../data/all_stab_scores/og/Longxing.v10.experimental_stability_scores.csv']"
      ]
     },
     "execution_count": 3,
     "metadata": {},
     "output_type": "execute_result"
    }
   ],
   "source": [
    "all_fps = glob.glob(\"../data/all_stab_scores/og/*.csv\")\n",
    "all_fps"
   ]
  },
  {
   "cell_type": "markdown",
   "metadata": {},
   "source": [
    "Get columns (excluding primary keys) in each CSV file, and assign an integer index for convenience:"
   ]
  },
  {
   "cell_type": "code",
   "execution_count": 4,
   "metadata": {},
   "outputs": [
    {
     "name": "stderr",
     "output_type": "stream",
     "text": [
      "/Users/TASethanho/.pyenv/versions/3.8.3/lib/python3.8/site-packages/IPython/core/interactiveshell.py:3341: DtypeWarning: Columns (89) have mixed types.Specify dtype option on import or set low_memory=False.\n",
      "  await eval(code_obj, self.user_global_ns, self.user_ns)\n"
     ]
    }
   ],
   "source": [
    "def get_cols(fp, primary_keys: list = primary_keys) -> list:\n",
    "    \"\"\"Get columns in CSV file `fp`, and remove primary keys\"\"\"\n",
    "    all_cols = pd.read_csv(fp).columns.tolist()\n",
    "    return [c for c in all_cols if c not in primary_keys]\n",
    "col_dict = {int_idx: get_cols(fp) for int_idx, fp in enumerate(all_fps)}"
   ]
  },
  {
   "cell_type": "markdown",
   "metadata": {},
   "source": [
    "Set up a weighted adjacency matrix:"
   ]
  },
  {
   "cell_type": "code",
   "execution_count": 5,
   "metadata": {},
   "outputs": [],
   "source": [
    "adj = np.zeros(shape=[len(all_fps), len(all_fps)], dtype=int)"
   ]
  },
  {
   "cell_type": "markdown",
   "metadata": {},
   "source": [
    "Iterate over every pair of files `(n1, n2)`:"
   ]
  },
  {
   "cell_type": "code",
   "execution_count": 6,
   "metadata": {},
   "outputs": [],
   "source": [
    "for k1, k2 in product(*[list(col_dict.keys())] * 2):\n",
    "    if k1 == k2:\n",
    "        continue\n",
    "    cols1 = set(col_dict[k1])\n",
    "    cols2 = set(col_dict[k2])\n",
    "    adj[k1, k2] = len(cols1.intersection(cols2))"
   ]
  },
  {
   "cell_type": "code",
   "execution_count": 47,
   "metadata": {},
   "outputs": [
    {
     "data": {
      "text/plain": [
       "array([[  0,  86,   7,  87,  87,  15,  87,   7,  15,  87,  15,  87,  15,\n",
       "          7,  87,  14,  87,  88,  87,   1,  15,  15,  87,   7],\n",
       "       [ 86,   0,   7,  86,  86,  16,  87,   7,  16,  87,  16,  87,  16,\n",
       "          7,  87,  15,  87,  87,  86,   1,  16,  15,  87,   7],\n",
       "       [  7,   7,   0,   7,   7,  12,  22,  22,  12,  22,  12,  22,  12,\n",
       "         22,  22,   6,  12,   7,   7,   1,  12,  22,  22,  22],\n",
       "       [ 87,  86,   7,   0,  88,  15,  87,   7,  15,  87,  15,  87,  15,\n",
       "          7,  87,  14,  87,  87,  87,   1,  15,  15,  87,   7],\n",
       "       [ 87,  86,   7,  88,   0,  15,  87,   7,  15,  87,  15,  87,  15,\n",
       "          7,  87,  14,  87,  87,  87,   1,  15,  15,  87,   7],\n",
       "       [ 15,  16,  12,  15,  15,   0,  21,  12,  22,  21,  22,  21,  22,\n",
       "         12,  21,  15,  21,  16,  15,   1,  22,  21,  21,  12],\n",
       "       [ 87,  87,  22,  87,  87,  21,   0,  22,  21, 105,  21, 103,  21,\n",
       "         22, 105,  15,  93,  88,  87,   1,  21,  30, 111,  22],\n",
       "       [  7,   7,  22,   7,   7,  12,  22,   0,  12,  22,  12,  22,  12,\n",
       "         22,  22,   6,  12,   7,   7,   1,  12,  22,  22,  22],\n",
       "       [ 15,  16,  12,  15,  15,  22,  21,  12,   0,  21,  22,  21,  22,\n",
       "         12,  21,  15,  21,  16,  15,   1,  22,  21,  21,  12],\n",
       "       [ 87,  87,  22,  87,  87,  21, 105,  22,  21,   0,  21, 103,  21,\n",
       "         22, 112,  15,  93,  88,  87,   1,  21,  30, 105,  22],\n",
       "       [ 15,  16,  12,  15,  15,  22,  21,  12,  22,  21,   0,  21,  22,\n",
       "         12,  21,  15,  21,  16,  15,   1,  22,  21,  21,  12],\n",
       "       [ 87,  87,  22,  87,  87,  21, 103,  22,  21, 103,  21,   0,  21,\n",
       "         22, 103,  15,  93,  88,  87,   1,  21,  30, 103,  22],\n",
       "       [ 15,  16,  12,  15,  15,  22,  21,  12,  22,  21,  22,  21,   0,\n",
       "         12,  21,  15,  21,  16,  15,   1,  22,  21,  21,  12],\n",
       "       [  7,   7,  22,   7,   7,  12,  22,  22,  12,  22,  12,  22,  12,\n",
       "          0,  22,   6,  12,   7,   7,   1,  12,  22,  22,  22],\n",
       "       [ 87,  87,  22,  87,  87,  21, 105,  22,  21, 112,  21, 103,  21,\n",
       "         22,   0,  15,  93,  88,  87,   1,  21,  30, 105,  22],\n",
       "       [ 14,  15,   6,  14,  14,  15,  15,   6,  15,  15,  15,  15,  15,\n",
       "          6,  15,   0,  15,  15,  14,   0,  15,  14,  15,   6],\n",
       "       [ 87,  87,  12,  87,  87,  21,  93,  12,  21,  93,  21,  93,  21,\n",
       "         12,  93,  15,   0,  88,  88,   1,  21,  20,  93,  12],\n",
       "       [ 88,  87,   7,  87,  87,  16,  88,   7,  16,  88,  16,  88,  16,\n",
       "          7,  88,  15,  88,   0,  87,   1,  16,  15,  88,   7],\n",
       "       [ 87,  86,   7,  87,  87,  15,  87,   7,  15,  87,  15,  87,  15,\n",
       "          7,  87,  14,  88,  87,   0,   1,  15,  15,  87,   7],\n",
       "       [  1,   1,   1,   1,   1,   1,   1,   1,   1,   1,   1,   1,   1,\n",
       "          1,   1,   0,   1,   1,   1,   0,   1,   1,   1,   1],\n",
       "       [ 15,  16,  12,  15,  15,  22,  21,  12,  22,  21,  22,  21,  22,\n",
       "         12,  21,  15,  21,  16,  15,   1,   0,  21,  21,  12],\n",
       "       [ 15,  15,  22,  15,  15,  21,  30,  22,  21,  30,  21,  30,  21,\n",
       "         22,  30,  14,  20,  15,  15,   1,  21,   0,  30,  22],\n",
       "       [ 87,  87,  22,  87,  87,  21, 111,  22,  21, 105,  21, 103,  21,\n",
       "         22, 105,  15,  93,  88,  87,   1,  21,  30,   0,  22],\n",
       "       [  7,   7,  22,   7,   7,  12,  22,  22,  12,  22,  12,  22,  12,\n",
       "         22,  22,   6,  12,   7,   7,   1,  12,  22,  22,   0]])"
      ]
     },
     "execution_count": 47,
     "metadata": {},
     "output_type": "execute_result"
    }
   ],
   "source": [
    "adj"
   ]
  },
  {
   "cell_type": "code",
   "execution_count": 45,
   "metadata": {
    "scrolled": true
   },
   "outputs": [],
   "source": [
    "threshold = 70\n",
    "adj_bool = (adj > threshold)"
   ]
  },
  {
   "cell_type": "code",
   "execution_count": 46,
   "metadata": {
    "scrolled": true
   },
   "outputs": [
    {
     "data": {
      "text/plain": [
       "array([[False,  True, False,  True,  True, False,  True, False, False,\n",
       "         True, False,  True, False, False,  True, False,  True,  True,\n",
       "         True, False, False, False,  True, False],\n",
       "       [ True, False, False,  True,  True, False,  True, False, False,\n",
       "         True, False,  True, False, False,  True, False,  True,  True,\n",
       "         True, False, False, False,  True, False],\n",
       "       [False, False, False, False, False, False, False, False, False,\n",
       "        False, False, False, False, False, False, False, False, False,\n",
       "        False, False, False, False, False, False],\n",
       "       [ True,  True, False, False,  True, False,  True, False, False,\n",
       "         True, False,  True, False, False,  True, False,  True,  True,\n",
       "         True, False, False, False,  True, False],\n",
       "       [ True,  True, False,  True, False, False,  True, False, False,\n",
       "         True, False,  True, False, False,  True, False,  True,  True,\n",
       "         True, False, False, False,  True, False],\n",
       "       [False, False, False, False, False, False, False, False, False,\n",
       "        False, False, False, False, False, False, False, False, False,\n",
       "        False, False, False, False, False, False],\n",
       "       [ True,  True, False,  True,  True, False, False, False, False,\n",
       "         True, False,  True, False, False,  True, False,  True,  True,\n",
       "         True, False, False, False,  True, False],\n",
       "       [False, False, False, False, False, False, False, False, False,\n",
       "        False, False, False, False, False, False, False, False, False,\n",
       "        False, False, False, False, False, False],\n",
       "       [False, False, False, False, False, False, False, False, False,\n",
       "        False, False, False, False, False, False, False, False, False,\n",
       "        False, False, False, False, False, False],\n",
       "       [ True,  True, False,  True,  True, False,  True, False, False,\n",
       "        False, False,  True, False, False,  True, False,  True,  True,\n",
       "         True, False, False, False,  True, False],\n",
       "       [False, False, False, False, False, False, False, False, False,\n",
       "        False, False, False, False, False, False, False, False, False,\n",
       "        False, False, False, False, False, False],\n",
       "       [ True,  True, False,  True,  True, False,  True, False, False,\n",
       "         True, False, False, False, False,  True, False,  True,  True,\n",
       "         True, False, False, False,  True, False],\n",
       "       [False, False, False, False, False, False, False, False, False,\n",
       "        False, False, False, False, False, False, False, False, False,\n",
       "        False, False, False, False, False, False],\n",
       "       [False, False, False, False, False, False, False, False, False,\n",
       "        False, False, False, False, False, False, False, False, False,\n",
       "        False, False, False, False, False, False],\n",
       "       [ True,  True, False,  True,  True, False,  True, False, False,\n",
       "         True, False,  True, False, False, False, False,  True,  True,\n",
       "         True, False, False, False,  True, False],\n",
       "       [False, False, False, False, False, False, False, False, False,\n",
       "        False, False, False, False, False, False, False, False, False,\n",
       "        False, False, False, False, False, False],\n",
       "       [ True,  True, False,  True,  True, False,  True, False, False,\n",
       "         True, False,  True, False, False,  True, False, False,  True,\n",
       "         True, False, False, False,  True, False],\n",
       "       [ True,  True, False,  True,  True, False,  True, False, False,\n",
       "         True, False,  True, False, False,  True, False,  True, False,\n",
       "         True, False, False, False,  True, False],\n",
       "       [ True,  True, False,  True,  True, False,  True, False, False,\n",
       "         True, False,  True, False, False,  True, False,  True,  True,\n",
       "        False, False, False, False,  True, False],\n",
       "       [False, False, False, False, False, False, False, False, False,\n",
       "        False, False, False, False, False, False, False, False, False,\n",
       "        False, False, False, False, False, False],\n",
       "       [False, False, False, False, False, False, False, False, False,\n",
       "        False, False, False, False, False, False, False, False, False,\n",
       "        False, False, False, False, False, False],\n",
       "       [False, False, False, False, False, False, False, False, False,\n",
       "        False, False, False, False, False, False, False, False, False,\n",
       "        False, False, False, False, False, False],\n",
       "       [ True,  True, False,  True,  True, False,  True, False, False,\n",
       "         True, False,  True, False, False,  True, False,  True,  True,\n",
       "         True, False, False, False, False, False],\n",
       "       [False, False, False, False, False, False, False, False, False,\n",
       "        False, False, False, False, False, False, False, False, False,\n",
       "        False, False, False, False, False, False]])"
      ]
     },
     "execution_count": 46,
     "metadata": {},
     "output_type": "execute_result"
    }
   ],
   "source": [
    "adj_bool"
   ]
  },
  {
   "cell_type": "markdown",
   "metadata": {},
   "source": [
    "## Visualize Graph"
   ]
  },
  {
   "cell_type": "code",
   "execution_count": 58,
   "metadata": {},
   "outputs": [],
   "source": [
    "svg_fp = \"./adj_bool.svg\"\n",
    "labels = list(col_dict.keys())\n",
    "svg_str = skn.visualization.graphs.svg_graph(adjacency=adj_bool_csr, labels=labels, display_edges=True)\n",
    "with open(svg_fp, 'w') as f:\n",
    "    f.write(svg_str)"
   ]
  },
  {
   "cell_type": "code",
   "execution_count": 59,
   "metadata": {},
   "outputs": [
    {
     "data": {
      "image/svg+xml": [
       "<svg xmlns=\"http://www.w3.org/2000/svg\" width=\"440\" height=\"340\">\n",
       "<path stroke-width=\"1\" stroke=\"black\" d=\"M 274 201 265 200\"/>\n",
       "<path stroke-width=\"1\" stroke=\"black\" d=\"M 264 187 285 193\"/>\n",
       "<path stroke-width=\"1\" stroke=\"black\" d=\"M 264 187 281 188\"/>\n",
       "<path stroke-width=\"1\" stroke=\"black\" d=\"M 264 187 274 185\"/>\n",
       "<path stroke-width=\"1\" stroke=\"black\" d=\"M 264 187 267 195\"/>\n",
       "<path stroke-width=\"1\" stroke=\"black\" d=\"M 264 187 259 191\"/>\n",
       "<path stroke-width=\"1\" stroke=\"black\" d=\"M 264 187 259 196\"/>\n",
       "<path stroke-width=\"1\" stroke=\"black\" d=\"M 264 187 276 194\"/>\n",
       "<path stroke-width=\"1\" stroke=\"black\" d=\"M 264 187 265 200\"/>\n",
       "<path stroke-width=\"1\" stroke=\"black\" d=\"M 264 187 274 201\"/>\n",
       "<path stroke-width=\"1\" stroke=\"black\" d=\"M 281 188 281 198\"/>\n",
       "<path stroke-width=\"1\" stroke=\"black\" d=\"M 281 188 270 189\"/>\n",
       "<path stroke-width=\"1\" stroke=\"black\" d=\"M 281 188 285 193\"/>\n",
       "<path stroke-width=\"1\" stroke=\"black\" d=\"M 281 188 264 187\"/>\n",
       "<path stroke-width=\"1\" stroke=\"black\" d=\"M 281 188 274 185\"/>\n",
       "<path stroke-width=\"1\" stroke=\"black\" d=\"M 281 188 267 195\"/>\n",
       "<path stroke-width=\"1\" stroke=\"black\" d=\"M 281 188 259 191\"/>\n",
       "<path stroke-width=\"1\" stroke=\"black\" d=\"M 281 188 259 196\"/>\n",
       "<path stroke-width=\"1\" stroke=\"black\" d=\"M 281 188 276 194\"/>\n",
       "<path stroke-width=\"1\" stroke=\"black\" d=\"M 281 188 265 200\"/>\n",
       "<path stroke-width=\"1\" stroke=\"black\" d=\"M 281 188 274 201\"/>\n",
       "<path stroke-width=\"1\" stroke=\"black\" d=\"M 274 185 281 198\"/>\n",
       "<path stroke-width=\"1\" stroke=\"black\" d=\"M 274 185 270 189\"/>\n",
       "<path stroke-width=\"1\" stroke=\"black\" d=\"M 274 185 285 193\"/>\n",
       "<path stroke-width=\"1\" stroke=\"black\" d=\"M 274 185 264 187\"/>\n",
       "<path stroke-width=\"1\" stroke=\"black\" d=\"M 274 185 281 188\"/>\n",
       "<path stroke-width=\"1\" stroke=\"black\" d=\"M 274 185 267 195\"/>\n",
       "<path stroke-width=\"1\" stroke=\"black\" d=\"M 274 185 259 191\"/>\n",
       "<path stroke-width=\"1\" stroke=\"black\" d=\"M 274 185 259 196\"/>\n",
       "<path stroke-width=\"1\" stroke=\"black\" d=\"M 274 185 276 194\"/>\n",
       "<path stroke-width=\"1\" stroke=\"black\" d=\"M 264 187 270 189\"/>\n",
       "<path stroke-width=\"1\" stroke=\"black\" d=\"M 274 185 265 200\"/>\n",
       "<path stroke-width=\"1\" stroke=\"black\" d=\"M 264 187 281 198\"/>\n",
       "<path stroke-width=\"1\" stroke=\"black\" d=\"M 285 193 265 200\"/>\n",
       "<path stroke-width=\"1\" stroke=\"black\" d=\"M 281 198 264 187\"/>\n",
       "<path stroke-width=\"1\" stroke=\"black\" d=\"M 281 198 281 188\"/>\n",
       "<path stroke-width=\"1\" stroke=\"black\" d=\"M 281 198 274 185\"/>\n",
       "<path stroke-width=\"1\" stroke=\"black\" d=\"M 281 198 267 195\"/>\n",
       "<path stroke-width=\"1\" stroke=\"black\" d=\"M 281 198 259 191\"/>\n",
       "<path stroke-width=\"1\" stroke=\"black\" d=\"M 281 198 259 196\"/>\n",
       "<path stroke-width=\"1\" stroke=\"black\" d=\"M 281 198 276 194\"/>\n",
       "<path stroke-width=\"1\" stroke=\"black\" d=\"M 281 198 265 200\"/>\n",
       "<path stroke-width=\"1\" stroke=\"black\" d=\"M 281 198 274 201\"/>\n",
       "<path stroke-width=\"1\" stroke=\"black\" d=\"M 270 189 281 198\"/>\n",
       "<path stroke-width=\"1\" stroke=\"black\" d=\"M 270 189 285 193\"/>\n",
       "<path stroke-width=\"1\" stroke=\"black\" d=\"M 270 189 264 187\"/>\n",
       "<path stroke-width=\"1\" stroke=\"black\" d=\"M 270 189 281 188\"/>\n",
       "<path stroke-width=\"1\" stroke=\"black\" d=\"M 270 189 274 185\"/>\n",
       "<path stroke-width=\"1\" stroke=\"black\" d=\"M 270 189 267 195\"/>\n",
       "<path stroke-width=\"1\" stroke=\"black\" d=\"M 270 189 259 191\"/>\n",
       "<path stroke-width=\"1\" stroke=\"black\" d=\"M 270 189 259 196\"/>\n",
       "<path stroke-width=\"1\" stroke=\"black\" d=\"M 270 189 276 194\"/>\n",
       "<path stroke-width=\"1\" stroke=\"black\" d=\"M 270 189 265 200\"/>\n",
       "<path stroke-width=\"1\" stroke=\"black\" d=\"M 270 189 274 201\"/>\n",
       "<path stroke-width=\"1\" stroke=\"black\" d=\"M 285 193 281 198\"/>\n",
       "<path stroke-width=\"1\" stroke=\"black\" d=\"M 285 193 270 189\"/>\n",
       "<path stroke-width=\"1\" stroke=\"black\" d=\"M 285 193 264 187\"/>\n",
       "<path stroke-width=\"1\" stroke=\"black\" d=\"M 285 193 281 188\"/>\n",
       "<path stroke-width=\"1\" stroke=\"black\" d=\"M 285 193 274 185\"/>\n",
       "<path stroke-width=\"1\" stroke=\"black\" d=\"M 285 193 267 195\"/>\n",
       "<path stroke-width=\"1\" stroke=\"black\" d=\"M 285 193 259 191\"/>\n",
       "<path stroke-width=\"1\" stroke=\"black\" d=\"M 285 193 259 196\"/>\n",
       "<path stroke-width=\"1\" stroke=\"black\" d=\"M 285 193 276 194\"/>\n",
       "<path stroke-width=\"1\" stroke=\"black\" d=\"M 285 193 274 201\"/>\n",
       "<path stroke-width=\"1\" stroke=\"black\" d=\"M 274 185 274 201\"/>\n",
       "<path stroke-width=\"1\" stroke=\"black\" d=\"M 267 195 281 198\"/>\n",
       "<path stroke-width=\"1\" stroke=\"black\" d=\"M 267 195 270 189\"/>\n",
       "<path stroke-width=\"1\" stroke=\"black\" d=\"M 276 194 264 187\"/>\n",
       "<path stroke-width=\"1\" stroke=\"black\" d=\"M 276 194 281 188\"/>\n",
       "<path stroke-width=\"1\" stroke=\"black\" d=\"M 276 194 274 185\"/>\n",
       "<path stroke-width=\"1\" stroke=\"black\" d=\"M 276 194 267 195\"/>\n",
       "<path stroke-width=\"1\" stroke=\"black\" d=\"M 276 194 259 191\"/>\n",
       "<path stroke-width=\"1\" stroke=\"black\" d=\"M 276 194 259 196\"/>\n",
       "<path stroke-width=\"1\" stroke=\"black\" d=\"M 276 194 265 200\"/>\n",
       "<path stroke-width=\"1\" stroke=\"black\" d=\"M 276 194 274 201\"/>\n",
       "<path stroke-width=\"1\" stroke=\"black\" d=\"M 265 200 281 198\"/>\n",
       "<path stroke-width=\"1\" stroke=\"black\" d=\"M 265 200 270 189\"/>\n",
       "<path stroke-width=\"1\" stroke=\"black\" d=\"M 265 200 285 193\"/>\n",
       "<path stroke-width=\"1\" stroke=\"black\" d=\"M 265 200 264 187\"/>\n",
       "<path stroke-width=\"1\" stroke=\"black\" d=\"M 265 200 281 188\"/>\n",
       "<path stroke-width=\"1\" stroke=\"black\" d=\"M 265 200 274 185\"/>\n",
       "<path stroke-width=\"1\" stroke=\"black\" d=\"M 265 200 267 195\"/>\n",
       "<path stroke-width=\"1\" stroke=\"black\" d=\"M 265 200 259 191\"/>\n",
       "<path stroke-width=\"1\" stroke=\"black\" d=\"M 265 200 259 196\"/>\n",
       "<path stroke-width=\"1\" stroke=\"black\" d=\"M 265 200 276 194\"/>\n",
       "<path stroke-width=\"1\" stroke=\"black\" d=\"M 265 200 274 201\"/>\n",
       "<path stroke-width=\"1\" stroke=\"black\" d=\"M 274 201 281 198\"/>\n",
       "<path stroke-width=\"1\" stroke=\"black\" d=\"M 274 201 270 189\"/>\n",
       "<path stroke-width=\"1\" stroke=\"black\" d=\"M 274 201 285 193\"/>\n",
       "<path stroke-width=\"1\" stroke=\"black\" d=\"M 274 201 264 187\"/>\n",
       "<path stroke-width=\"1\" stroke=\"black\" d=\"M 274 201 281 188\"/>\n",
       "<path stroke-width=\"1\" stroke=\"black\" d=\"M 274 201 274 185\"/>\n",
       "<path stroke-width=\"1\" stroke=\"black\" d=\"M 274 201 267 195\"/>\n",
       "<path stroke-width=\"1\" stroke=\"black\" d=\"M 274 201 259 191\"/>\n",
       "<path stroke-width=\"1\" stroke=\"black\" d=\"M 274 201 259 196\"/>\n",
       "<path stroke-width=\"1\" stroke=\"black\" d=\"M 274 201 276 194\"/>\n",
       "<path stroke-width=\"1\" stroke=\"black\" d=\"M 276 194 285 193\"/>\n",
       "<path stroke-width=\"1\" stroke=\"black\" d=\"M 276 194 270 189\"/>\n",
       "<path stroke-width=\"1\" stroke=\"black\" d=\"M 276 194 281 198\"/>\n",
       "<path stroke-width=\"1\" stroke=\"black\" d=\"M 259 196 274 201\"/>\n",
       "<path stroke-width=\"1\" stroke=\"black\" d=\"M 267 195 285 193\"/>\n",
       "<path stroke-width=\"1\" stroke=\"black\" d=\"M 267 195 264 187\"/>\n",
       "<path stroke-width=\"1\" stroke=\"black\" d=\"M 267 195 281 188\"/>\n",
       "<path stroke-width=\"1\" stroke=\"black\" d=\"M 267 195 274 185\"/>\n",
       "<path stroke-width=\"1\" stroke=\"black\" d=\"M 267 195 259 191\"/>\n",
       "<path stroke-width=\"1\" stroke=\"black\" d=\"M 267 195 259 196\"/>\n",
       "<path stroke-width=\"1\" stroke=\"black\" d=\"M 267 195 276 194\"/>\n",
       "<path stroke-width=\"1\" stroke=\"black\" d=\"M 267 195 265 200\"/>\n",
       "<path stroke-width=\"1\" stroke=\"black\" d=\"M 267 195 274 201\"/>\n",
       "<path stroke-width=\"1\" stroke=\"black\" d=\"M 259 191 281 198\"/>\n",
       "<path stroke-width=\"1\" stroke=\"black\" d=\"M 259 191 270 189\"/>\n",
       "<path stroke-width=\"1\" stroke=\"black\" d=\"M 259 191 285 193\"/>\n",
       "<path stroke-width=\"1\" stroke=\"black\" d=\"M 259 191 264 187\"/>\n",
       "<path stroke-width=\"1\" stroke=\"black\" d=\"M 259 191 281 188\"/>\n",
       "<path stroke-width=\"1\" stroke=\"black\" d=\"M 281 198 285 193\"/>\n",
       "<path stroke-width=\"1\" stroke=\"black\" d=\"M 259 191 274 185\"/>\n",
       "<path stroke-width=\"1\" stroke=\"black\" d=\"M 259 191 259 196\"/>\n",
       "<path stroke-width=\"1\" stroke=\"black\" d=\"M 259 191 276 194\"/>\n",
       "<path stroke-width=\"1\" stroke=\"black\" d=\"M 259 191 265 200\"/>\n",
       "<path stroke-width=\"1\" stroke=\"black\" d=\"M 259 191 274 201\"/>\n",
       "<path stroke-width=\"1\" stroke=\"black\" d=\"M 259 196 281 198\"/>\n",
       "<path stroke-width=\"1\" stroke=\"black\" d=\"M 259 196 270 189\"/>\n",
       "<path stroke-width=\"1\" stroke=\"black\" d=\"M 259 196 285 193\"/>\n",
       "<path stroke-width=\"1\" stroke=\"black\" d=\"M 259 196 264 187\"/>\n",
       "<path stroke-width=\"1\" stroke=\"black\" d=\"M 259 196 281 188\"/>\n",
       "<path stroke-width=\"1\" stroke=\"black\" d=\"M 259 196 274 185\"/>\n",
       "<path stroke-width=\"1\" stroke=\"black\" d=\"M 259 196 267 195\"/>\n",
       "<path stroke-width=\"1\" stroke=\"black\" d=\"M 259 196 259 191\"/>\n",
       "<path stroke-width=\"1\" stroke=\"black\" d=\"M 259 196 276 194\"/>\n",
       "<path stroke-width=\"1\" stroke=\"black\" d=\"M 259 196 265 200\"/>\n",
       "<path stroke-width=\"1\" stroke=\"black\" d=\"M 259 191 267 195\"/>\n",
       "<path stroke-width=\"1\" stroke=\"black\" d=\"M 281 198 270 189\"/>\n",
       "<circle cx=\"274\" cy=\"201\" r=\"7.0\" style=\"fill:blue;stroke:black;stroke-width:1.0\"/>\n",
       "<circle cx=\"265\" cy=\"200\" r=\"7.0\" style=\"fill:red;stroke:black;stroke-width:1.0\"/>\n",
       "<circle cx=\"162\" cy=\"104\" r=\"7.0\" style=\"fill:green;stroke:black;stroke-width:1.0\"/>\n",
       "<circle cx=\"276\" cy=\"194\" r=\"7.0\" style=\"fill:orange;stroke:black;stroke-width:1.0\"/>\n",
       "<circle cx=\"259\" cy=\"196\" r=\"7.0\" style=\"fill:purple;stroke:black;stroke-width:1.0\"/>\n",
       "<circle cx=\"111\" cy=\"246\" r=\"7.0\" style=\"fill:yellow;stroke:black;stroke-width:1.0\"/>\n",
       "<circle cx=\"259\" cy=\"191\" r=\"7.0\" style=\"fill:fuchsia;stroke:black;stroke-width:1.0\"/>\n",
       "<circle cx=\"66\" cy=\"320\" r=\"7.0\" style=\"fill:olive;stroke:black;stroke-width:1.0\"/>\n",
       "<circle cx=\"161\" cy=\"20\" r=\"7.0\" style=\"fill:aqua;stroke:black;stroke-width:1.0\"/>\n",
       "<circle cx=\"267\" cy=\"195\" r=\"7.0\" style=\"fill:brown;stroke:black;stroke-width:1.0\"/>\n",
       "<circle cx=\"420\" cy=\"137\" r=\"7.0\" style=\"fill:blue;stroke:black;stroke-width:1.0\"/>\n",
       "<circle cx=\"274\" cy=\"185\" r=\"7.0\" style=\"fill:red;stroke:black;stroke-width:1.0\"/>\n",
       "<circle cx=\"337\" cy=\"31\" r=\"7.0\" style=\"fill:green;stroke:black;stroke-width:1.0\"/>\n",
       "<circle cx=\"196\" cy=\"276\" r=\"7.0\" style=\"fill:orange;stroke:black;stroke-width:1.0\"/>\n",
       "<circle cx=\"281\" cy=\"188\" r=\"7.0\" style=\"fill:purple;stroke:black;stroke-width:1.0\"/>\n",
       "<circle cx=\"128\" cy=\"301\" r=\"7.0\" style=\"fill:yellow;stroke:black;stroke-width:1.0\"/>\n",
       "<circle cx=\"264\" cy=\"187\" r=\"7.0\" style=\"fill:fuchsia;stroke:black;stroke-width:1.0\"/>\n",
       "<circle cx=\"285\" cy=\"193\" r=\"7.0\" style=\"fill:olive;stroke:black;stroke-width:1.0\"/>\n",
       "<circle cx=\"270\" cy=\"189\" r=\"7.0\" style=\"fill:aqua;stroke:black;stroke-width:1.0\"/>\n",
       "<circle cx=\"20\" cy=\"238\" r=\"7.0\" style=\"fill:brown;stroke:black;stroke-width:1.0\"/>\n",
       "<circle cx=\"191\" cy=\"125\" r=\"7.0\" style=\"fill:blue;stroke:black;stroke-width:1.0\"/>\n",
       "<circle cx=\"24\" cy=\"130\" r=\"7.0\" style=\"fill:red;stroke:black;stroke-width:1.0\"/>\n",
       "<circle cx=\"281\" cy=\"198\" r=\"7.0\" style=\"fill:green;stroke:black;stroke-width:1.0\"/>\n",
       "<circle cx=\"335\" cy=\"278\" r=\"7.0\" style=\"fill:orange;stroke:black;stroke-width:1.0\"/>\n",
       "</svg>"
      ],
      "text/plain": [
       "<IPython.core.display.SVG object>"
      ]
     },
     "execution_count": 59,
     "metadata": {},
     "output_type": "execute_result"
    }
   ],
   "source": [
    "from IPython.core.display import SVG\n",
    "SVG(filename='adj_bool.svg')"
   ]
  },
  {
   "cell_type": "markdown",
   "metadata": {},
   "source": [
    "## Run Propogation Clustering On Weighted Adjacency Matrix"
   ]
  },
  {
   "cell_type": "code",
   "execution_count": 36,
   "metadata": {},
   "outputs": [
    {
     "data": {
      "text/plain": [
       "array([[False,  True,  True, ...,  True, False, False],\n",
       "       [ True, False,  True, ..., False, False, False],\n",
       "       [ True,  True, False, ..., False,  True, False],\n",
       "       ...,\n",
       "       [ True, False, False, ..., False,  True,  True],\n",
       "       [False, False,  True, ...,  True, False,  True],\n",
       "       [False, False, False, ...,  True,  True, False]])"
      ]
     },
     "execution_count": 36,
     "metadata": {},
     "output_type": "execute_result"
    }
   ],
   "source": [
    "karate_club().toarray()"
   ]
  },
  {
   "cell_type": "code",
   "execution_count": 31,
   "metadata": {},
   "outputs": [
    {
     "data": {
      "text/plain": [
       "<24x24 sparse matrix of type '<class 'numpy.bool_'>'\n",
       "\twith 132 stored elements in Compressed Sparse Row format>"
      ]
     },
     "execution_count": 31,
     "metadata": {},
     "output_type": "execute_result"
    }
   ],
   "source": [
    "adj_bool_csr = csr_matrix(adj_bool)\n",
    "adj_bool_csr"
   ]
  },
  {
   "cell_type": "code",
   "execution_count": 44,
   "metadata": {},
   "outputs": [
    {
     "data": {
      "text/plain": [
       "array([0, 0, 0, 0, 0, 0, 0, 0, 0, 0, 0, 0, 0, 0, 1, 1, 0, 0, 1, 0, 1, 0,\n",
       "       1, 1, 1, 1, 1, 1, 1, 1, 0, 1, 1, 1])"
      ]
     },
     "execution_count": 44,
     "metadata": {},
     "output_type": "execute_result"
    }
   ],
   "source": [
    "propagation = PropagationClustering(weighted=True)\n",
    "labels = propagation.fit_transform(adjacency)\n",
    "labels"
   ]
  },
  {
   "cell_type": "markdown",
   "metadata": {},
   "source": [
    "## Testing Propagation Clustering in sknetwork"
   ]
  },
  {
   "cell_type": "code",
   "execution_count": 8,
   "metadata": {},
   "outputs": [],
   "source": [
    "cols_by_fp = []"
   ]
  },
  {
   "cell_type": "code",
   "execution_count": 42,
   "metadata": {},
   "outputs": [
    {
     "data": {
      "text/plain": [
       "2"
      ]
     },
     "execution_count": 42,
     "metadata": {},
     "output_type": "execute_result"
    }
   ],
   "source": [
    "from sknetwork.clustering import PropagationClustering\n",
    "from sknetwork.data import karate_club\n",
    "propagation = PropagationClustering(weighted=True)\n",
    "graph = karate_club(metadata=True)\n",
    "adjacency = graph.adjacency\n",
    "labels = propagation.fit_transform(adjacency)\n",
    "len(set(labels))"
   ]
  },
  {
   "cell_type": "code",
   "execution_count": 10,
   "metadata": {},
   "outputs": [
    {
     "data": {
      "text/plain": [
       "34"
      ]
     },
     "execution_count": 10,
     "metadata": {},
     "output_type": "execute_result"
    }
   ],
   "source": [
    "len(labels)"
   ]
  },
  {
   "cell_type": "code",
   "execution_count": 16,
   "metadata": {},
   "outputs": [
    {
     "data": {
      "text/plain": [
       "(34, 34)"
      ]
     },
     "execution_count": 16,
     "metadata": {},
     "output_type": "execute_result"
    }
   ],
   "source": [
    "adjacency.shape"
   ]
  }
 ],
 "metadata": {
  "kernelspec": {
   "display_name": "Python 3",
   "language": "python",
   "name": "python3"
  },
  "language_info": {
   "codemirror_mode": {
    "name": "ipython",
    "version": 3
   },
   "file_extension": ".py",
   "mimetype": "text/x-python",
   "name": "python",
   "nbconvert_exporter": "python",
   "pygments_lexer": "ipython3",
   "version": "3.8.3"
  }
 },
 "nbformat": 4,
 "nbformat_minor": 4
}
